{
 "cells": [
  {
   "cell_type": "code",
   "execution_count": 283,
   "id": "261a9633-49ae-4bd3-8b78-eaaa75ff4065",
   "metadata": {},
   "outputs": [],
   "source": [
    "import numpy as np\n",
    "import pandas as pd\n",
    "import matplotlib.pyplot as plt\n",
    "import seaborn as sns"
   ]
  },
  {
   "cell_type": "code",
   "execution_count": 284,
   "id": "f4c0eb53-a22b-4665-95e4-5c832dd5f6c4",
   "metadata": {},
   "outputs": [],
   "source": [
    "Loans = pd.read_csv('Task 3 and 4_Loan_Data.csv')"
   ]
  },
  {
   "cell_type": "code",
   "execution_count": 285,
   "id": "90196a65-30ca-47ec-9f3e-5b48e9f1cb24",
   "metadata": {},
   "outputs": [
    {
     "data": {
      "text/html": [
       "<div>\n",
       "<style scoped>\n",
       "    .dataframe tbody tr th:only-of-type {\n",
       "        vertical-align: middle;\n",
       "    }\n",
       "\n",
       "    .dataframe tbody tr th {\n",
       "        vertical-align: top;\n",
       "    }\n",
       "\n",
       "    .dataframe thead th {\n",
       "        text-align: right;\n",
       "    }\n",
       "</style>\n",
       "<table border=\"1\" class=\"dataframe\">\n",
       "  <thead>\n",
       "    <tr style=\"text-align: right;\">\n",
       "      <th></th>\n",
       "      <th>customer_id</th>\n",
       "      <th>credit_lines_outstanding</th>\n",
       "      <th>loan_amt_outstanding</th>\n",
       "      <th>total_debt_outstanding</th>\n",
       "      <th>income</th>\n",
       "      <th>years_employed</th>\n",
       "      <th>fico_score</th>\n",
       "      <th>default</th>\n",
       "    </tr>\n",
       "  </thead>\n",
       "  <tbody>\n",
       "    <tr>\n",
       "      <th>0</th>\n",
       "      <td>8153374</td>\n",
       "      <td>0</td>\n",
       "      <td>5221.545193</td>\n",
       "      <td>3915.471226</td>\n",
       "      <td>78039.38546</td>\n",
       "      <td>5</td>\n",
       "      <td>605</td>\n",
       "      <td>0</td>\n",
       "    </tr>\n",
       "    <tr>\n",
       "      <th>1</th>\n",
       "      <td>7442532</td>\n",
       "      <td>5</td>\n",
       "      <td>1958.928726</td>\n",
       "      <td>8228.752520</td>\n",
       "      <td>26648.43525</td>\n",
       "      <td>2</td>\n",
       "      <td>572</td>\n",
       "      <td>1</td>\n",
       "    </tr>\n",
       "    <tr>\n",
       "      <th>2</th>\n",
       "      <td>2256073</td>\n",
       "      <td>0</td>\n",
       "      <td>3363.009259</td>\n",
       "      <td>2027.830850</td>\n",
       "      <td>65866.71246</td>\n",
       "      <td>4</td>\n",
       "      <td>602</td>\n",
       "      <td>0</td>\n",
       "    </tr>\n",
       "    <tr>\n",
       "      <th>3</th>\n",
       "      <td>4885975</td>\n",
       "      <td>0</td>\n",
       "      <td>4766.648001</td>\n",
       "      <td>2501.730397</td>\n",
       "      <td>74356.88347</td>\n",
       "      <td>5</td>\n",
       "      <td>612</td>\n",
       "      <td>0</td>\n",
       "    </tr>\n",
       "    <tr>\n",
       "      <th>4</th>\n",
       "      <td>4700614</td>\n",
       "      <td>1</td>\n",
       "      <td>1345.827718</td>\n",
       "      <td>1768.826187</td>\n",
       "      <td>23448.32631</td>\n",
       "      <td>6</td>\n",
       "      <td>631</td>\n",
       "      <td>0</td>\n",
       "    </tr>\n",
       "    <tr>\n",
       "      <th>5</th>\n",
       "      <td>4661159</td>\n",
       "      <td>0</td>\n",
       "      <td>5376.886873</td>\n",
       "      <td>7189.121298</td>\n",
       "      <td>85529.84591</td>\n",
       "      <td>2</td>\n",
       "      <td>697</td>\n",
       "      <td>0</td>\n",
       "    </tr>\n",
       "    <tr>\n",
       "      <th>6</th>\n",
       "      <td>8291909</td>\n",
       "      <td>1</td>\n",
       "      <td>3634.057471</td>\n",
       "      <td>7085.980095</td>\n",
       "      <td>68691.57707</td>\n",
       "      <td>6</td>\n",
       "      <td>722</td>\n",
       "      <td>0</td>\n",
       "    </tr>\n",
       "    <tr>\n",
       "      <th>7</th>\n",
       "      <td>4616950</td>\n",
       "      <td>4</td>\n",
       "      <td>3302.172238</td>\n",
       "      <td>13067.570210</td>\n",
       "      <td>50352.16821</td>\n",
       "      <td>3</td>\n",
       "      <td>545</td>\n",
       "      <td>1</td>\n",
       "    </tr>\n",
       "    <tr>\n",
       "      <th>8</th>\n",
       "      <td>3395789</td>\n",
       "      <td>0</td>\n",
       "      <td>2938.325123</td>\n",
       "      <td>1918.404472</td>\n",
       "      <td>53497.37754</td>\n",
       "      <td>4</td>\n",
       "      <td>676</td>\n",
       "      <td>0</td>\n",
       "    </tr>\n",
       "    <tr>\n",
       "      <th>9</th>\n",
       "      <td>4045948</td>\n",
       "      <td>0</td>\n",
       "      <td>5396.366774</td>\n",
       "      <td>5298.824524</td>\n",
       "      <td>92349.55399</td>\n",
       "      <td>2</td>\n",
       "      <td>447</td>\n",
       "      <td>0</td>\n",
       "    </tr>\n",
       "  </tbody>\n",
       "</table>\n",
       "</div>"
      ],
      "text/plain": [
       "   customer_id  credit_lines_outstanding  loan_amt_outstanding  \\\n",
       "0      8153374                         0           5221.545193   \n",
       "1      7442532                         5           1958.928726   \n",
       "2      2256073                         0           3363.009259   \n",
       "3      4885975                         0           4766.648001   \n",
       "4      4700614                         1           1345.827718   \n",
       "5      4661159                         0           5376.886873   \n",
       "6      8291909                         1           3634.057471   \n",
       "7      4616950                         4           3302.172238   \n",
       "8      3395789                         0           2938.325123   \n",
       "9      4045948                         0           5396.366774   \n",
       "\n",
       "   total_debt_outstanding       income  years_employed  fico_score  default  \n",
       "0             3915.471226  78039.38546               5         605        0  \n",
       "1             8228.752520  26648.43525               2         572        1  \n",
       "2             2027.830850  65866.71246               4         602        0  \n",
       "3             2501.730397  74356.88347               5         612        0  \n",
       "4             1768.826187  23448.32631               6         631        0  \n",
       "5             7189.121298  85529.84591               2         697        0  \n",
       "6             7085.980095  68691.57707               6         722        0  \n",
       "7            13067.570210  50352.16821               3         545        1  \n",
       "8             1918.404472  53497.37754               4         676        0  \n",
       "9             5298.824524  92349.55399               2         447        0  "
      ]
     },
     "execution_count": 285,
     "metadata": {},
     "output_type": "execute_result"
    }
   ],
   "source": [
    "Loans.head(10)"
   ]
  },
  {
   "cell_type": "markdown",
   "id": "c77ba37a-5cbd-496c-9e36-990db3673504",
   "metadata": {},
   "source": [
    "## Logistic Regression Model"
   ]
  },
  {
   "cell_type": "code",
   "execution_count": 286,
   "id": "e24919d8-3bfb-4000-bc31-e4a6e46e28ae",
   "metadata": {},
   "outputs": [],
   "source": [
    "from sklearn.model_selection import train_test_split\n",
    "from sklearn.linear_model import LogisticRegression\n",
    "from sklearn.dummy import DummyClassifier\n",
    "from sklearn.metrics import classification_report, roc_auc_score, roc_curve, confusion_matrix\n",
    "from sklearn.preprocessing import StandardScaler"
   ]
  },
  {
   "cell_type": "code",
   "execution_count": 287,
   "id": "64d2f652-9b6e-4e5d-b0ab-8463e87ef889",
   "metadata": {},
   "outputs": [],
   "source": [
    "X = Loans.drop(['default','customer_id'],axis = 1)\n",
    "y = Loans['default']"
   ]
  },
  {
   "cell_type": "code",
   "execution_count": 288,
   "id": "7cd21286-8332-43f5-86d9-4638dfcf7966",
   "metadata": {},
   "outputs": [],
   "source": [
    "scaler = StandardScaler()\n",
    "X_scaled = scaler.fit_transform(X)"
   ]
  },
  {
   "cell_type": "code",
   "execution_count": 289,
   "id": "9e8fe5b1-9833-4d49-9085-36b5e98c53cf",
   "metadata": {},
   "outputs": [],
   "source": [
    "X_train, X_test, y_train, y_test = train_test_split(X_scaled, y, test_size=.3, random_state=123)"
   ]
  },
  {
   "cell_type": "code",
   "execution_count": 290,
   "id": "1c39b27c-b49f-435f-ab32-d7090ca75b32",
   "metadata": {},
   "outputs": [
    {
     "data": {
      "text/plain": [
       "array([[8.78164343e-01, 1.21835657e-01],\n",
       "       [9.99999944e-01, 5.63849660e-08],\n",
       "       [9.99999994e-01, 6.46643624e-09],\n",
       "       ...,\n",
       "       [9.99999974e-01, 2.61452090e-08],\n",
       "       [9.99999999e-01, 5.33041426e-10],\n",
       "       [9.28570110e-10, 9.99999999e-01]])"
      ]
     },
     "execution_count": 290,
     "metadata": {},
     "output_type": "execute_result"
    }
   ],
   "source": [
    "log_reg = LogisticRegression()\n",
    "\n",
    "log_reg.fit(X_train,y_train)\n",
    "\n",
    "preds = log_reg.predict_proba(X_test)\n",
    "preds"
   ]
  },
  {
   "cell_type": "code",
   "execution_count": 291,
   "id": "ea9599e7-5534-4504-be41-ee6be5fccb6e",
   "metadata": {},
   "outputs": [
    {
     "data": {
      "text/plain": [
       "Text(0.5, 1.0, 'Confusion Matrix')"
      ]
     },
     "execution_count": 291,
     "metadata": {},
     "output_type": "execute_result"
    },
    {
     "data": {
      "image/png": "[encoded data removed]",
      "text/plain": [
       "<Figure size 800x600 with 2 Axes>"
      ]
     },
     "metadata": {},
     "output_type": "display_data"
    }
   ],
   "source": [
    "y_preds = log_reg.predict(X_test)\n",
    "\n",
    "cmat = confusion_matrix (y_test,y_preds)\n",
    "\n",
    "plt.figure(figsize = (8,6))\n",
    "sns.heatmap(cmat,annot=True,fmt='g',cmap='Greys')\n",
    "plt.title('Confusion Matrix')"
   ]
  },
  {
   "cell_type": "code",
   "execution_count": 292,
   "id": "06216595-391d-4211-bbad-5ba2e68eac3a",
   "metadata": {},
   "outputs": [
    {
     "data": {
      "image/png": "[encoded data removed]",
      "text/plain": [
       "<Figure size 640x480 with 1 Axes>"
      ]
     },
     "metadata": {},
     "output_type": "display_data"
    }
   ],
   "source": [
    "prob_default = preds[:, 1]\n",
    "fallout, sensitivity, thresholds = roc_curve(y_test, prob_default)\n",
    "rocauc = roc_auc_score(y_test, prob_default)\n",
    "logistic = plt.plot(fallout, sensitivity, color = 'darkorange')\n",
    "no_skill = plt.plot([0, 1], [0, 1], linestyle='--')\n",
    "plt.title(\"ROC Chart for LR on PD\")\n",
    "plt.xlabel(\"Fall-out\")\n",
    "plt.ylabel(\"Sensitivity\")\n",
    "plt.annotate(f'ROC-AUC Score = {rocauc}',xy=(0.03,0.7))\n",
    "plt.show()"
   ]
  },
  {
   "cell_type": "code",
   "execution_count": 293,
   "id": "e1f0550c-39b1-480a-af38-57375409ee1d",
   "metadata": {},
   "outputs": [
    {
     "data": {
      "text/html": [
       "<div>\n",
       "<style scoped>\n",
       "    .dataframe tbody tr th:only-of-type {\n",
       "        vertical-align: middle;\n",
       "    }\n",
       "\n",
       "    .dataframe tbody tr th {\n",
       "        vertical-align: top;\n",
       "    }\n",
       "\n",
       "    .dataframe thead th {\n",
       "        text-align: right;\n",
       "    }\n",
       "</style>\n",
       "<table border=\"1\" class=\"dataframe\">\n",
       "  <thead>\n",
       "    <tr style=\"text-align: right;\">\n",
       "      <th></th>\n",
       "      <th>Features</th>\n",
       "      <th>Coefficients</th>\n",
       "    </tr>\n",
       "  </thead>\n",
       "  <tbody>\n",
       "    <tr>\n",
       "      <th>0</th>\n",
       "      <td>credit_lines_outstanding</td>\n",
       "      <td>8.480291</td>\n",
       "    </tr>\n",
       "    <tr>\n",
       "      <th>1</th>\n",
       "      <td>loan_amt_outstanding</td>\n",
       "      <td>0.111738</td>\n",
       "    </tr>\n",
       "    <tr>\n",
       "      <th>2</th>\n",
       "      <td>total_debt_outstanding</td>\n",
       "      <td>3.394049</td>\n",
       "    </tr>\n",
       "    <tr>\n",
       "      <th>3</th>\n",
       "      <td>income</td>\n",
       "      <td>-2.131737</td>\n",
       "    </tr>\n",
       "    <tr>\n",
       "      <th>4</th>\n",
       "      <td>years_employed</td>\n",
       "      <td>-2.864337</td>\n",
       "    </tr>\n",
       "    <tr>\n",
       "      <th>5</th>\n",
       "      <td>fico_score</td>\n",
       "      <td>-1.089845</td>\n",
       "    </tr>\n",
       "  </tbody>\n",
       "</table>\n",
       "</div>"
      ],
      "text/plain": [
       "                   Features  Coefficients\n",
       "0  credit_lines_outstanding      8.480291\n",
       "1      loan_amt_outstanding      0.111738\n",
       "2    total_debt_outstanding      3.394049\n",
       "3                    income     -2.131737\n",
       "4            years_employed     -2.864337\n",
       "5                fico_score     -1.089845"
      ]
     },
     "execution_count": 293,
     "metadata": {},
     "output_type": "execute_result"
    }
   ],
   "source": [
    "features = X.columns\n",
    "coefs = log_reg.coef_[0]\n",
    "coef_df = pd.DataFrame({'Features':features,'Coefficients':coefs})\n",
    "coef_df"
   ]
  },
  {
   "cell_type": "code",
   "execution_count": 324,
   "id": "14f802e3-f62d-465b-a5f7-e6e215c1c249",
   "metadata": {},
   "outputs": [],
   "source": [
    "def expected_loss(model,scaler,features,recovery_rate): # function for predicting expected loss\n",
    "\n",
    "    # features to be given in usual order\n",
    "    scaled_features = scaler.transform([features])\n",
    "    prob_default = model.predict_proba(scaled_features)[:,1][0]\n",
    "    exp_loss = prob_default * (1-recovery_rate) * features[1]\n",
    "\n",
    "    return exp_loss"
   ]
  },
  {
   "cell_type": "code",
   "execution_count": 326,
   "id": "cffed338-7e18-491c-b0c4-0ecbf33226b8",
   "metadata": {},
   "outputs": [
    {
     "name": "stderr",
     "output_type": "stream",
     "text": [
      "/opt/anaconda3/lib/python3.12/site-packages/sklearn/base.py:493: UserWarning: X does not have valid feature names, but StandardScaler was fitted with feature names\n",
      "  warnings.warn(\n"
     ]
    },
    {
     "data": {
      "text/plain": [
       "1915.3587300637387"
      ]
     },
     "execution_count": 326,
     "metadata": {},
     "output_type": "execute_result"
    }
   ],
   "source": [
    "# test case\n",
    "\n",
    "features = [5,2128.1812,6721.23444,30142.8238,3,501]\n",
    "recovery_rate = 0.1\n",
    "expected_loss(log_reg,scaler,features,recovery_rate)"
   ]
  }
 ],
 "metadata": {
  "kernelspec": {
   "display_name": "Python 3 (ipykernel)",
   "language": "python",
   "name": "python3"
  },
  "language_info": {
   "codemirror_mode": {
    "name": "ipython",
    "version": 3
   },
   "file_extension": ".py",
   "mimetype": "text/x-python",
   "name": "python",
   "nbconvert_exporter": "python",
   "pygments_lexer": "ipython3",
   "version": "3.12.2"
  }
 },
 "nbformat": 4,
 "nbformat_minor": 5
}
