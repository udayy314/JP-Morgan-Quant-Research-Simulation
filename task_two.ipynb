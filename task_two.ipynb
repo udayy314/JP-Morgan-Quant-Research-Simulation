{
 "cells": [
  {
   "cell_type": "code",
   "execution_count": 5,
   "id": "8a3e0688-35c1-466b-90a4-ad33f2fee4b7",
   "metadata": {},
   "outputs": [],
   "source": [
    "import numpy as np\n",
    "import pandas as pd\n",
    "import matplotlib.pyplot as plt\n",
    "import datetime as dt\n",
    "from datetime import datetime,timedelta\n",
    "from sklearn.linear_model import LinearRegression"
   ]
  },
  {
   "cell_type": "code",
   "execution_count": 101,
   "id": "da1c4e30-3c62-405a-bc4d-579853fbf074",
   "metadata": {},
   "outputs": [],
   "source": [
    "Nat_gas = pd.read_csv('Nat_gas.csv')"
   ]
  },
  {
   "cell_type": "code",
   "execution_count": 107,
   "id": "5112cc20-701e-42bf-8066-6049a1e4ca99",
   "metadata": {},
   "outputs": [],
   "source": [
    "Nat_gas['Dates']=pd.to_datetime(Nat_gas['Dates'],str)\n",
    "Nat_gas['Year'] = Nat_gas['Dates'].dt.year\n",
    "Nat_gas['Month'] = Nat_gas['Dates'].dt.month\n",
    "Nat_gas['Day'] = Nat_gas['Dates'].dt.day"
   ]
  },
  {
   "cell_type": "code",
   "execution_count": 109,
   "id": "1adde52c-1daa-421f-8d7e-725e37b8afed",
   "metadata": {},
   "outputs": [],
   "source": [
    "def price_for_date(month,year): # Price predictor from task one reused to get prices for data beyond the database\n",
    "    x = np.array(Nat_gas[Nat_gas['Month'] == month]['Year']).reshape(-1,1)\n",
    "    y = np.array(Nat_gas[Nat_gas['Month'] == month]['Prices'])\n",
    "    reg = LinearRegression().fit(x,y)\n",
    "    price = round(float(reg.predict([[year]])),1)\n",
    "\n",
    "    return price"
   ]
  },
  {
   "cell_type": "code",
   "execution_count": 111,
   "id": "1347aa42-21bc-4d8a-a8cd-0e855ecb5475",
   "metadata": {},
   "outputs": [],
   "source": [
    "def contract_price(inj_dates,wit_dates,access_cost_rate,inj_rate,max_storage_vol,storage_cost_per_month):\n",
    "\n",
    "    price = 0\n",
    "\n",
    "    for i in range(len(inj_dates)):\n",
    "        inj_datetime = pd.to_datetime(inj_dates[i])\n",
    "        inj_month = inj_datetime.month\n",
    "        inj_year = inj_datetime.year\n",
    "\n",
    "        wit_datetime = pd.to_datetime(wit_dates[i])\n",
    "        wit_month = wit_datetime.month\n",
    "        wit_year = wit_datetime.year\n",
    "        \n",
    "        price_at_inj = price_for_date(inj_month,inj_year)\n",
    "        print('Price of gas at injection on ' + inj_dates[i] + f' is ${price_at_inj}/MMBtu')\n",
    "        price_at_wit = price_for_date(wit_month,wit_year)\n",
    "        print('Price of gas at withdrawal ' + wit_dates[i] + f' is ${price_at_wit}/MMBtu')\n",
    "        storage_duration = round((pd.to_datetime(wit_dates[i]) - pd.to_datetime(inj_dates[i])).days / 30.42)\n",
    "        \n",
    "        vol_injected = min(max_storage_vol,inj_rate * storage_duration)\n",
    "        storage_cost = storage_cost_per_month * storage_duration\n",
    "        total_access_cost = ((vol_injected/1000000) * access_cost_rate) * 2\n",
    "\n",
    "        buy_cost = vol_injected * price_at_inj\n",
    "        revenue = vol_injected * price_at_wit\n",
    "\n",
    "        price += (revenue - buy_cost - total_access_cost - storage_cost)\n",
    "\n",
    "    return price"
   ]
  },
  {
   "cell_type": "code",
   "execution_count": 113,
   "id": "123be490-c0cd-4529-a223-14c59a364f01",
   "metadata": {},
   "outputs": [
    {
     "name": "stdout",
     "output_type": "stream",
     "text": [
      "Price of gas at injection on 10/31/2024 is $12.2/MMBtu\n",
      "Price of gas at withdrawal 2/28/2025 is $12.8/MMBtu\n",
      "Price of gas at injection on 2025/05/31 is $12.1/MMBtu\n",
      "Price of gas at withdrawal 2025/09/30 is $12.5/MMBtu\n",
      "Price of gas at injection on 2025/10/31 is $12.9/MMBtu\n",
      "Price of gas at withdrawal 2025/12/31 is $13.7/MMBtu\n"
     ]
    },
    {
     "name": "stderr",
     "output_type": "stream",
     "text": [
      "/var/folders/14/z7_bg7bj0_52hphy1kz7499h0000gn/T/ipykernel_11467/2264545492.py:5: DeprecationWarning: Conversion of an array with ndim > 0 to a scalar is deprecated, and will error in future. Ensure you extract a single element from your array before performing this operation. (Deprecated NumPy 1.25.)\n",
      "  price = round(float(reg.predict([[year]])),1)\n",
      "/var/folders/14/z7_bg7bj0_52hphy1kz7499h0000gn/T/ipykernel_11467/2264545492.py:5: DeprecationWarning: Conversion of an array with ndim > 0 to a scalar is deprecated, and will error in future. Ensure you extract a single element from your array before performing this operation. (Deprecated NumPy 1.25.)\n",
      "  price = round(float(reg.predict([[year]])),1)\n",
      "/var/folders/14/z7_bg7bj0_52hphy1kz7499h0000gn/T/ipykernel_11467/2264545492.py:5: DeprecationWarning: Conversion of an array with ndim > 0 to a scalar is deprecated, and will error in future. Ensure you extract a single element from your array before performing this operation. (Deprecated NumPy 1.25.)\n",
      "  price = round(float(reg.predict([[year]])),1)\n",
      "/var/folders/14/z7_bg7bj0_52hphy1kz7499h0000gn/T/ipykernel_11467/2264545492.py:5: DeprecationWarning: Conversion of an array with ndim > 0 to a scalar is deprecated, and will error in future. Ensure you extract a single element from your array before performing this operation. (Deprecated NumPy 1.25.)\n",
      "  price = round(float(reg.predict([[year]])),1)\n",
      "/var/folders/14/z7_bg7bj0_52hphy1kz7499h0000gn/T/ipykernel_11467/2264545492.py:5: DeprecationWarning: Conversion of an array with ndim > 0 to a scalar is deprecated, and will error in future. Ensure you extract a single element from your array before performing this operation. (Deprecated NumPy 1.25.)\n",
      "  price = round(float(reg.predict([[year]])),1)\n",
      "/var/folders/14/z7_bg7bj0_52hphy1kz7499h0000gn/T/ipykernel_11467/2264545492.py:5: DeprecationWarning: Conversion of an array with ndim > 0 to a scalar is deprecated, and will error in future. Ensure you extract a single element from your array before performing this operation. (Deprecated NumPy 1.25.)\n",
      "  price = round(float(reg.predict([[year]])),1)\n"
     ]
    },
    {
     "data": {
      "text/plain": [
       "4400000.0"
      ]
     },
     "execution_count": 113,
     "metadata": {},
     "output_type": "execute_result"
    }
   ],
   "source": [
    "# Sample input\n",
    "inj_dates = ['10/31/2024','2025/05/31','2025/10/31']\n",
    "wit_dates = ['2/28/2025','2025/09/30','2025/12/31']\n",
    "access_cost_rate = 10000\n",
    "inj_rate = 1000000\n",
    "max_storage_vol = 50000000\n",
    "storage_cost_per_month = 100000\n",
    "\n",
    "\n",
    "contract_price(inj_dates,wit_dates,access_cost_rate,inj_rate,max_storage_vol,storage_cost_per_month)"
   ]
  },
  {
   "cell_type": "code",
   "execution_count": null,
   "id": "a5d88f70-927c-46b4-b8cd-5afcdf63858b",
   "metadata": {},
   "outputs": [],
   "source": []
  }
 ],
 "metadata": {
  "kernelspec": {
   "display_name": "Python 3 (ipykernel)",
   "language": "python",
   "name": "python3"
  },
  "language_info": {
   "codemirror_mode": {
    "name": "ipython",
    "version": 3
   },
   "file_extension": ".py",
   "mimetype": "text/x-python",
   "name": "python",
   "nbconvert_exporter": "python",
   "pygments_lexer": "ipython3",
   "version": "3.12.2"
  }
 },
 "nbformat": 4,
 "nbformat_minor": 5
}
