{
 "cells": [
  {
   "cell_type": "code",
   "execution_count": 120,
   "id": "e83d0d8a-5c72-4fc1-9f6d-f616cb8aafb4",
   "metadata": {},
   "outputs": [],
   "source": [
    "import numpy as np\n",
    "import pandas as pd\n",
    "import matplotlib.pyplot as plt\n",
    "import seaborn as sns\n",
    "from scipy.stats import binom"
   ]
  },
  {
   "cell_type": "code",
   "execution_count": 122,
   "id": "f9042439-e156-4b58-8ed1-4c733e6d00ad",
   "metadata": {},
   "outputs": [],
   "source": [
    "Loans = pd.read_csv('Task 3 and 4_Loan_Data.csv')"
   ]
  },
  {
   "cell_type": "code",
   "execution_count": 124,
   "id": "5d00f0cb-7536-4b7e-b4f9-0069b7580627",
   "metadata": {},
   "outputs": [
    {
     "data": {
      "text/html": [
       "<div>\n",
       "<style scoped>\n",
       "    .dataframe tbody tr th:only-of-type {\n",
       "        vertical-align: middle;\n",
       "    }\n",
       "\n",
       "    .dataframe tbody tr th {\n",
       "        vertical-align: top;\n",
       "    }\n",
       "\n",
       "    .dataframe thead th {\n",
       "        text-align: right;\n",
       "    }\n",
       "</style>\n",
       "<table border=\"1\" class=\"dataframe\">\n",
       "  <thead>\n",
       "    <tr style=\"text-align: right;\">\n",
       "      <th></th>\n",
       "      <th>customer_id</th>\n",
       "      <th>credit_lines_outstanding</th>\n",
       "      <th>loan_amt_outstanding</th>\n",
       "      <th>total_debt_outstanding</th>\n",
       "      <th>income</th>\n",
       "      <th>years_employed</th>\n",
       "      <th>fico_score</th>\n",
       "      <th>default</th>\n",
       "    </tr>\n",
       "  </thead>\n",
       "  <tbody>\n",
       "    <tr>\n",
       "      <th>0</th>\n",
       "      <td>8153374</td>\n",
       "      <td>0</td>\n",
       "      <td>5221.545193</td>\n",
       "      <td>3915.471226</td>\n",
       "      <td>78039.38546</td>\n",
       "      <td>5</td>\n",
       "      <td>605</td>\n",
       "      <td>0</td>\n",
       "    </tr>\n",
       "    <tr>\n",
       "      <th>1</th>\n",
       "      <td>7442532</td>\n",
       "      <td>5</td>\n",
       "      <td>1958.928726</td>\n",
       "      <td>8228.752520</td>\n",
       "      <td>26648.43525</td>\n",
       "      <td>2</td>\n",
       "      <td>572</td>\n",
       "      <td>1</td>\n",
       "    </tr>\n",
       "    <tr>\n",
       "      <th>2</th>\n",
       "      <td>2256073</td>\n",
       "      <td>0</td>\n",
       "      <td>3363.009259</td>\n",
       "      <td>2027.830850</td>\n",
       "      <td>65866.71246</td>\n",
       "      <td>4</td>\n",
       "      <td>602</td>\n",
       "      <td>0</td>\n",
       "    </tr>\n",
       "    <tr>\n",
       "      <th>3</th>\n",
       "      <td>4885975</td>\n",
       "      <td>0</td>\n",
       "      <td>4766.648001</td>\n",
       "      <td>2501.730397</td>\n",
       "      <td>74356.88347</td>\n",
       "      <td>5</td>\n",
       "      <td>612</td>\n",
       "      <td>0</td>\n",
       "    </tr>\n",
       "    <tr>\n",
       "      <th>4</th>\n",
       "      <td>4700614</td>\n",
       "      <td>1</td>\n",
       "      <td>1345.827718</td>\n",
       "      <td>1768.826187</td>\n",
       "      <td>23448.32631</td>\n",
       "      <td>6</td>\n",
       "      <td>631</td>\n",
       "      <td>0</td>\n",
       "    </tr>\n",
       "    <tr>\n",
       "      <th>5</th>\n",
       "      <td>4661159</td>\n",
       "      <td>0</td>\n",
       "      <td>5376.886873</td>\n",
       "      <td>7189.121298</td>\n",
       "      <td>85529.84591</td>\n",
       "      <td>2</td>\n",
       "      <td>697</td>\n",
       "      <td>0</td>\n",
       "    </tr>\n",
       "    <tr>\n",
       "      <th>6</th>\n",
       "      <td>8291909</td>\n",
       "      <td>1</td>\n",
       "      <td>3634.057471</td>\n",
       "      <td>7085.980095</td>\n",
       "      <td>68691.57707</td>\n",
       "      <td>6</td>\n",
       "      <td>722</td>\n",
       "      <td>0</td>\n",
       "    </tr>\n",
       "    <tr>\n",
       "      <th>7</th>\n",
       "      <td>4616950</td>\n",
       "      <td>4</td>\n",
       "      <td>3302.172238</td>\n",
       "      <td>13067.570210</td>\n",
       "      <td>50352.16821</td>\n",
       "      <td>3</td>\n",
       "      <td>545</td>\n",
       "      <td>1</td>\n",
       "    </tr>\n",
       "    <tr>\n",
       "      <th>8</th>\n",
       "      <td>3395789</td>\n",
       "      <td>0</td>\n",
       "      <td>2938.325123</td>\n",
       "      <td>1918.404472</td>\n",
       "      <td>53497.37754</td>\n",
       "      <td>4</td>\n",
       "      <td>676</td>\n",
       "      <td>0</td>\n",
       "    </tr>\n",
       "    <tr>\n",
       "      <th>9</th>\n",
       "      <td>4045948</td>\n",
       "      <td>0</td>\n",
       "      <td>5396.366774</td>\n",
       "      <td>5298.824524</td>\n",
       "      <td>92349.55399</td>\n",
       "      <td>2</td>\n",
       "      <td>447</td>\n",
       "      <td>0</td>\n",
       "    </tr>\n",
       "  </tbody>\n",
       "</table>\n",
       "</div>"
      ],
      "text/plain": [
       "   customer_id  credit_lines_outstanding  loan_amt_outstanding  \\\n",
       "0      8153374                         0           5221.545193   \n",
       "1      7442532                         5           1958.928726   \n",
       "2      2256073                         0           3363.009259   \n",
       "3      4885975                         0           4766.648001   \n",
       "4      4700614                         1           1345.827718   \n",
       "5      4661159                         0           5376.886873   \n",
       "6      8291909                         1           3634.057471   \n",
       "7      4616950                         4           3302.172238   \n",
       "8      3395789                         0           2938.325123   \n",
       "9      4045948                         0           5396.366774   \n",
       "\n",
       "   total_debt_outstanding       income  years_employed  fico_score  default  \n",
       "0             3915.471226  78039.38546               5         605        0  \n",
       "1             8228.752520  26648.43525               2         572        1  \n",
       "2             2027.830850  65866.71246               4         602        0  \n",
       "3             2501.730397  74356.88347               5         612        0  \n",
       "4             1768.826187  23448.32631               6         631        0  \n",
       "5             7189.121298  85529.84591               2         697        0  \n",
       "6             7085.980095  68691.57707               6         722        0  \n",
       "7            13067.570210  50352.16821               3         545        1  \n",
       "8             1918.404472  53497.37754               4         676        0  \n",
       "9             5298.824524  92349.55399               2         447        0  "
      ]
     },
     "execution_count": 124,
     "metadata": {},
     "output_type": "execute_result"
    }
   ],
   "source": [
    "Loans.head(10)"
   ]
  },
  {
   "cell_type": "markdown",
   "id": "dfcc22c0-c5a3-489b-ad80-4d84888a4015",
   "metadata": {},
   "source": [
    "## Maximising the Log-likelihood (LL)"
   ]
  },
  {
   "cell_type": "code",
   "execution_count": 126,
   "id": "3088a535-2367-4f69-9966-59126f1c84d8",
   "metadata": {},
   "outputs": [],
   "source": [
    "from sklearn.model_selection import train_test_split\n",
    "from sklearn.linear_model import LogisticRegression\n",
    "from sklearn.dummy import DummyClassifier\n",
    "from sklearn.metrics import accuracy_score, f1_score, confusion_matrix, recall_score, roc_auc_score"
   ]
  },
  {
   "cell_type": "code",
   "execution_count": 200,
   "id": "aa7877cc-271b-4689-b381-8f33e95d59bc",
   "metadata": {},
   "outputs": [
    {
     "data": {
      "text/plain": [
       "-13.463435690607817"
      ]
     },
     "execution_count": 200,
     "metadata": {},
     "output_type": "execute_result"
    }
   ],
   "source": [
    "def calculate_initial_ll(data,no_of_buckets): # this calculates LL using bounds such that each bucket has equal length \n",
    "    data['Buckets'] = pd.cut(data['fico_score'], bins = no_of_buckets, labels=False)\n",
    "    ll = 0\n",
    "    for i in range(no_of_buckets):\n",
    "        buckets = data[data['Buckets'] == i]\n",
    "        if not buckets.empty:\n",
    "            n_i = len(buckets)\n",
    "            k_i = buckets['default'].sum()\n",
    "            p_i = k_i/n_i if n_i > 0 else 0\n",
    "            ll += binom.logpmf(k_i,n_i,p_i)\n",
    "    return ll\n",
    "\n",
    "initial_ll = calculate_initial_ll(Loans,4)\n",
    "initial_ll"
   ]
  },
  {
   "cell_type": "code",
   "execution_count": 178,
   "id": "ff4175cf-e4dd-4a5b-8960-be7df285f03c",
   "metadata": {},
   "outputs": [
    {
     "data": {
      "text/plain": [
       "-33.598696267881586"
      ]
     },
     "execution_count": 178,
     "metadata": {},
     "output_type": "execute_result"
    }
   ],
   "source": [
    "def calculate_ll(data,no_of_buckets,bounds): # more generalised function for calculating ll with given no of buckets and the bounds\n",
    "    data['Buckets'] = pd.cut(data['fico_score'], bins = bounds, labels=False)\n",
    "    ll = 0\n",
    "    for i in range(no_of_buckets):\n",
    "        buckets = data[data['Buckets'] == i]\n",
    "        if not buckets.empty:\n",
    "            n_i = len(buckets)\n",
    "            k_i = buckets['default'].sum()\n",
    "            p_i = k_i/n_i if n_i > 0 else 0\n",
    "            ll += binom.logpmf(k_i,n_i,p_i)\n",
    "    return ll\n",
    "\n",
    "bounds = np.linspace(Loans['fico_score'].min(),Loans['fico_score'].max(),15)\n",
    "calculate_ll(Loans,14,bounds)"
   ]
  },
  {
   "cell_type": "code",
   "execution_count": 202,
   "id": "57740304-7c2a-48cc-8066-ab83f6cc5a04",
   "metadata": {},
   "outputs": [
    {
     "name": "stdout",
     "output_type": "stream",
     "text": [
      "Testing with 2 buckets\n",
      "Optimized bounds for n=2 are [788. 819. 850.], giving semi-optimal LL -0.9716930352791294\n",
      "Testing with 3 buckets\n",
      "Optimized bounds for n=3 are [458.         555.33333333 742.66666667 850.        ], giving semi-optimal LL -9.94262353768576\n",
      "Testing with 4 buckets\n",
      "Optimized bounds for n=4 are [438.  518.5 629.  759.5 850. ], giving semi-optimal LL -12.73894431204495\n",
      "Testing with 5 buckets\n",
      "Optimized bounds for n=5 are [418.  496.4 584.8 673.2 761.6 850. ], giving semi-optimal LL -15.581549172652764\n",
      "Testing with 6 buckets\n",
      "Optimized bounds for n=6 are [418.         481.66666667 555.33333333 629.         702.66666667\n",
      " 776.33333333 850.        ], giving semi-optimal LL -17.87221718202465\n",
      "Testing with 7 buckets\n",
      "Optimized bounds for n=7 are [428.         471.14285714 534.28571429 597.42857143 660.57142857\n",
      " 733.71428571 796.85714286 850.        ], giving semi-optimal LL -19.7444508005168\n",
      "Testing with 8 buckets\n",
      "Optimized bounds for n=8 are [418.   463.25 518.5  573.75 629.   684.25 739.5  794.75 850.  ], giving semi-optimal LL -22.360223209557404\n",
      "Testing with 9 buckets\n",
      "Optimized bounds for n=9 are [428.         457.11111111 506.22222222 555.33333333 604.44444444\n",
      " 653.55555556 702.66666667 761.77777778 810.88888889 850.        ], giving semi-optimal LL -23.35260743193077\n",
      "Testing with 10 buckets\n",
      "Optimized bounds for n=10 are [418.  452.2 496.4 540.6 584.8 629.  673.2 717.4 761.6 805.8 850. ], giving semi-optimal LL -25.67961218833069\n",
      "Optimal LL of -0.9716930352791294 is obtained when n=2 and bounds are [788. 819. 850.]\n"
     ]
    },
    {
     "data": {
      "text/plain": [
       "(-0.9716930352791294, 2, array([788., 819., 850.]))"
      ]
     },
     "execution_count": 202,
     "metadata": {},
     "output_type": "execute_result"
    }
   ],
   "source": [
    "def optimize_ll(data,test_bucket_numbers):\n",
    "    optimal_ll = float('-inf')\n",
    "    optimal_no_of_buckets = test_bucket_numbers[0]\n",
    "    optimal_bounds = None\n",
    "\n",
    "    for n in test_bucket_numbers:\n",
    "        print(f'Testing with {n} buckets')\n",
    "        bounds = np.linspace(data['fico_score'].min(),data['fico_score'].max(),n+1)\n",
    "        initial_ll = calculate_initial_ll(data,n)\n",
    "\n",
    "        # optimizing the bounds\n",
    "        \n",
    "        bounds_optimized = True\n",
    "        iterations = 0\n",
    "        final_ll = initial_ll\n",
    "        \n",
    "        while bounds_optimized and iterations < 100:\n",
    "            bounds_optimized = False\n",
    "            for i in range (n): #isnt that just n\n",
    "                initial_bound = bounds[i]\n",
    "\n",
    "                for shift in [-10,10]:\n",
    "                    bounds[i] += shift\n",
    "                    data['Buckets'] = pd.cut(data['fico_score'], bins = bounds, labels=False, include_lowest = True)\n",
    "                    new_ll = calculate_ll(data,n,bounds)\n",
    "                    if new_ll > final_ll:\n",
    "                        final_ll = new_ll\n",
    "                        bounds_optimized = True\n",
    "                    else:\n",
    "                        bounds[i] = initial_bound\n",
    "            iterations += 1\n",
    "\n",
    "        print(f'Optimized bounds for n={n} are {bounds}, giving semi-optimal LL {final_ll}')\n",
    "\n",
    "        if final_ll > optimal_ll:\n",
    "            optimal_ll = final_ll\n",
    "            optimal_no_of_buckets = n\n",
    "            optimal_bounds = bounds\n",
    "\n",
    "    print(f'Optimal LL of {optimal_ll} is obtained when n={optimal_no_of_buckets} and bounds are {optimal_bounds}')\n",
    "    return optimal_ll, optimal_no_of_buckets, optimal_bounds\n",
    "\n",
    "optimize_ll(Loans,[2,3,4,5,6,7,8,9,10])"
   ]
  }
 ],
 "metadata": {
  "kernelspec": {
   "display_name": "Python 3 (ipykernel)",
   "language": "python",
   "name": "python3"
  },
  "language_info": {
   "codemirror_mode": {
    "name": "ipython",
    "version": 3
   },
   "file_extension": ".py",
   "mimetype": "text/x-python",
   "name": "python",
   "nbconvert_exporter": "python",
   "pygments_lexer": "ipython3",
   "version": "3.12.2"
  }
 },
 "nbformat": 4,
 "nbformat_minor": 5
}
